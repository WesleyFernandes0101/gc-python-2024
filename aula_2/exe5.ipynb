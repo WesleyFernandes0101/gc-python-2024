{
 "cells": [
  {
   "cell_type": "code",
   "execution_count": 1,
   "id": "5c55631c-5b97-409c-8b06-66decbdd7a8a",
   "metadata": {},
   "outputs": [],
   "source": [
    "#Crie um programa em Python que solicite ao usuário que insira a sua idade. Com base na idade fornecida, o programa deve verificar se o usuário é menor de idade, maior de idade ou se está completando os 18 anos.\n",
    "#Se a idade for menor que 18 anos, o programa deve exibir \"Menor de idade!\".\n",
    "#Se a idade for exatamente 18 anos, o programa deve exibir \"Feliz aniversário!\".\n",
    "#Se a idade for maior que 18 anos, o programa deve exibir \"Maior de idade!\"."
   ]
  },
  {
   "cell_type": "code",
   "execution_count": 2,
   "id": "3dcc7017-f722-4b38-8ebe-1b3a727f401a",
   "metadata": {},
   "outputs": [
    {
     "name": "stdin",
     "output_type": "stream",
     "text": [
      "Digite sua idade: 18\n"
     ]
    },
    {
     "name": "stdout",
     "output_type": "stream",
     "text": [
      "Feliz aniversário!\n"
     ]
    }
   ],
   "source": [
    "idade = int(input('Digite sua idade:'))\n",
    "\n",
    "if idade < 18:\n",
    "    print('Você é de menor')\n",
    "elif idade == 18:\n",
    "    print('Feliz aniversário!')\n",
    "else:\n",
    "    print('Você é de maior')"
   ]
  }
 ],
 "metadata": {
  "kernelspec": {
   "display_name": "Python 3 (ipykernel)",
   "language": "python",
   "name": "python3"
  },
  "language_info": {
   "codemirror_mode": {
    "name": "ipython",
    "version": 3
   },
   "file_extension": ".py",
   "mimetype": "text/x-python",
   "name": "python",
   "nbconvert_exporter": "python",
   "pygments_lexer": "ipython3",
   "version": "3.12.4"
  }
 },
 "nbformat": 4,
 "nbformat_minor": 5
}
