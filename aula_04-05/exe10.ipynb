{
 "cells": [
  {
   "cell_type": "code",
   "execution_count": null,
   "id": "b48988aa-5e95-40ff-b366-8a9cae16163f",
   "metadata": {},
   "outputs": [],
   "source": [
    "#Exercício 10 Coop - Responda as Perguntas\n",
    "#O que é uma chave primária em um banco de dados? Por que é importante que cada tabela tenha uma chave primária?\n",
    "#Em um dataframe do Pandas, como você pode identificar uma coluna que atua como uma chave primária?\n",
    "#Exercício 10 Coop - Responda as Perguntas\n",
    "#O que são chaves estrangeiras e como elas se relacionam com as chaves primárias?\n",
    "#Explique como a relação entre duas tabelas com chaves primárias e estrangeiras pode ser representada com dataframes no Pandas.\n",
    "#Qual a diferença entre os métodos .merge() e .join() no Pandas?\n",
    "#Exercício 10 Coop - Responda as Perguntas\n",
    "#Quando você usaria um inner join ao invés de um left join? Explique com exemplos.\n",
    "#Em que situação um merge resultaria em valores faltantes? Como podemos lidar com esses valores?\n",
    "#Quais são as maneiras de tratar dados faltantes no Pandas? Explique os métodos .dropna() e .fillna().\n",
    "\n",
    "#Local do exercício - https://github.com/ReneArthur/gc-python-2024/blob/main/aula_05/exercicio_10.ipynb\n",
    "\n",
    "#Integrantes: Wesley Fernandes da Silveira, "
   ]
  }
 ],
 "metadata": {
  "kernelspec": {
   "display_name": "Python 3 (ipykernel)",
   "language": "python",
   "name": "python3"
  },
  "language_info": {
   "codemirror_mode": {
    "name": "ipython",
    "version": 3
   },
   "file_extension": ".py",
   "mimetype": "text/x-python",
   "name": "python",
   "nbconvert_exporter": "python",
   "pygments_lexer": "ipython3",
   "version": "3.12.4"
  }
 },
 "nbformat": 4,
 "nbformat_minor": 5
}
