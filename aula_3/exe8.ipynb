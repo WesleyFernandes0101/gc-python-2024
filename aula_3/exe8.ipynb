{
 "cells": [
  {
   "cell_type": "code",
   "execution_count": null,
   "id": "7bed1f30-90e8-4b0d-ae88-500ade931c71",
   "metadata": {},
   "outputs": [],
   "source": [
    "#Exercício 06 – miniBoss – Coop –\n",
    "#Leia o arquivo do datase em csv;\n",
    "#Visualize as primeiras linhas do dataset;\n",
    "#Visualize informações básicas do dataset, como: nomes das colunas, número de linhas, número de campos nulos, etc;\n",
    "#Visualize informações sobre os campos numéricos do dataset, como: média, valor minimo e maximo, etc;\n",
    "#Remova informações nulas;\n",
    "#Verifique se existem dados duplicados;\n",
    "#Remova informações duplicadas;\n",

    "#Remova as colunas 'listed_in' e 'duration'.\n",
    "\n",
    "#Feito com Vitor Ochoa - aula_04 - https://github.com/VitorOchoa/gc-python-2024/tree/main/aula_04"

    "#Remova as colunas 'listed_in' e 'duration'."

   ]
  }
 ],
 "metadata": {
  "kernelspec": {
   "display_name": "Python 3 (ipykernel)",
   "language": "python",
   "name": "python3"
  },
  "language_info": {
   "codemirror_mode": {
    "name": "ipython",
    "version": 3
   },
   "file_extension": ".py",
   "mimetype": "text/x-python",
   "name": "python",
   "nbconvert_exporter": "python",
   "pygments_lexer": "ipython3",
   "version": "3.12.4"
  }
 },
 "nbformat": 4,
 "nbformat_minor": 5
}