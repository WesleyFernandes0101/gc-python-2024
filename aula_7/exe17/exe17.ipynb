{
 "cells": [
  {
   "cell_type": "code",
   "execution_count": 32,
   "id": "4e546b33-ef71-4e3e-9078-37deaf369252",
   "metadata": {},
   "outputs": [],
   "source": [
    "#Exercício 17\n",
    "#Você é um professor que deseja analisar as notas de dois grupos de alunos em um teste de matemática. \n",
    "#Carregue o dataset chamado 17_notas_grupos.csv (ver nos recursos da aula no Discord), que contém duas colunas: Grupo_A e Grupo_B, \n",
    "#representando as notas dos alunos."
   ]
  },
  {
   "cell_type": "code",
   "execution_count": 33,
   "id": "df61b142-f783-4b26-9026-636468b490ca",
   "metadata": {},
   "outputs": [
    {
     "data": {
      "text/html": [
       "<div>\n",
       "<style scoped>\n",
       "    .dataframe tbody tr th:only-of-type {\n",
       "        vertical-align: middle;\n",
       "    }\n",
       "\n",
       "    .dataframe tbody tr th {\n",
       "        vertical-align: top;\n",
       "    }\n",
       "\n",
       "    .dataframe thead th {\n",
       "        text-align: right;\n",
       "    }\n",
       "</style>\n",
       "<table border=\"1\" class=\"dataframe\">\n",
       "  <thead>\n",
       "    <tr style=\"text-align: right;\">\n",
       "      <th></th>\n",
       "      <th>Grupo_A</th>\n",
       "      <th>Grupo_B</th>\n",
       "    </tr>\n",
       "  </thead>\n",
       "  <tbody>\n",
       "    <tr>\n",
       "      <th>0</th>\n",
       "      <td>51</td>\n",
       "      <td>23</td>\n",
       "    </tr>\n",
       "    <tr>\n",
       "      <th>1</th>\n",
       "      <td>92</td>\n",
       "      <td>25</td>\n",
       "    </tr>\n",
       "    <tr>\n",
       "      <th>2</th>\n",
       "      <td>14</td>\n",
       "      <td>88</td>\n",
       "    </tr>\n",
       "    <tr>\n",
       "      <th>3</th>\n",
       "      <td>71</td>\n",
       "      <td>59</td>\n",
       "    </tr>\n",
       "    <tr>\n",
       "      <th>4</th>\n",
       "      <td>60</td>\n",
       "      <td>40</td>\n",
       "    </tr>\n",
       "  </tbody>\n",
       "</table>\n",
       "</div>"
      ],
      "text/plain": [
       "   Grupo_A  Grupo_B\n",
       "0       51       23\n",
       "1       92       25\n",
       "2       14       88\n",
       "3       71       59\n",
       "4       60       40"
      ]
     },
     "execution_count": 33,
     "metadata": {},
     "output_type": "execute_result"
    }
   ],
   "source": [
    "import pandas as pd\n",
    "\n",
    "notas_grupos = pd.read_csv('C:/Users/Pichau/Downloads/gc-python-2024/aula_7/exe17/17_notas_grupos.csv')\n",
    "\n",
    "notas_grupos.head()"
   ]
  },
  {
   "cell_type": "code",
   "execution_count": 34,
   "id": "3bc19d0e-5bbe-4c5c-ab27-ef04295c6ad6",
   "metadata": {},
   "outputs": [],
   "source": [
    "#Calcule e compare:\n",
    "#1. a média das notas de ambos os grupos"
   ]
  },
  {
   "cell_type": "code",
   "execution_count": 35,
   "id": "937d64a2-917d-4763-af20-780cab43aae9",
   "metadata": {},
   "outputs": [
    {
     "name": "stdout",
     "output_type": "stream",
     "text": [
      "A média do grupo A é: 51.31\n",
      "A média do grupo B é: 48.05\n"
     ]
    }
   ],
   "source": [
    "media_grupoa = notas_grupos['Grupo_A'].mean()\n",
    "print(f'A média do grupo A é: {media_grupoa}')\n",
    "media_grupob = notas_grupos['Grupo_B'].mean()\n",
    "print(f'A média do grupo B é: {media_grupob}')"
   ]
  },
  {
   "cell_type": "code",
   "execution_count": 36,
   "id": "15973ce4-a286-4d9a-aa7f-1dad5b8719de",
   "metadata": {},
   "outputs": [],
   "source": [
    "#2. a mediana das notas de ambos os grupos"
   ]
  },
  {
   "cell_type": "code",
   "execution_count": 37,
   "id": "bb58625f-b688-455b-ab0b-32a6b92ee421",
   "metadata": {},
   "outputs": [
    {
     "name": "stdout",
     "output_type": "stream",
     "text": [
      "A mediana do grupo A é: 53.5\n",
      "A mediana do grupo B é: 43.5\n"
     ]
    }
   ],
   "source": [
    "mediana_grupoa = notas_grupos['Grupo_A'].median()\n",
    "print(f'A mediana do grupo A é: {mediana_grupoa}')\n",
    "mediana_grupob = notas_grupos['Grupo_B'].median()\n",
    "print(f'A mediana do grupo B é: {mediana_grupob}')"
   ]
  },
  {
   "cell_type": "code",
   "execution_count": 38,
   "id": "ccd0ed79-504c-49aa-bb66-3ac8f31dd666",
   "metadata": {},
   "outputs": [],
   "source": [
    "#3. o desvio padrão das notas de ambos os grupos.\n",
    "#Não se esquça de imprimir os resultados comparando as duas turmas para cada resultado obtido, mas garanta que está em uma forma amigável e fácil de entender."
   ]
  },
  {
   "cell_type": "code",
   "execution_count": 39,
   "id": "421c0fdd-c83f-40a5-a938-9661b0894854",
   "metadata": {},
   "outputs": [
    {
     "name": "stdout",
     "output_type": "stream",
     "text": [
      "O desvio padrão do grupo A é: 29.70\n",
      "O desvio padrão do grupo B é: 30.74\n",
      "O grupo B apresenta uma maior variação nas notas.\n"
     ]
    }
   ],
   "source": [
    "desvio_grupoa = notas_grupos['Grupo_A'].std()\n",
    "print(f'O desvio padrão do grupo A é: {desvio_grupoa:.2f}')\n",
    "desvio_grupob = notas_grupos['Grupo_B'].std()\n",
    "print(f'O desvio padrão do grupo B é: {desvio_grupob:.2f}')\n",
    "\n",
    "if desvio_grupoa > desvio_grupob:\n",
    "    print('O grupo A apresenta uma maior variação nas notas.')\n",
    "elif desvio_grupoa < desvio_grupob:\n",
    "    print('O grupo B apresenta uma maior variação nas notas.')\n",
    "else:\n",
    "    print('Ambos os grupos têm a mesma variação nas notas.')"
   ]
  }
 ],
 "metadata": {
  "kernelspec": {
   "display_name": "Python 3 (ipykernel)",
   "language": "python",
   "name": "python3"
  },
  "language_info": {
   "codemirror_mode": {
    "name": "ipython",
    "version": 3
   },
   "file_extension": ".py",
   "mimetype": "text/x-python",
   "name": "python",
   "nbconvert_exporter": "python",
   "pygments_lexer": "ipython3",
   "version": "3.12.4"
  }
 },
 "nbformat": 4,
 "nbformat_minor": 5
}
