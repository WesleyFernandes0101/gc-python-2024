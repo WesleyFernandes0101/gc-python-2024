{
 "cells": [
  {
   "cell_type": "code",
   "execution_count": 22,
   "id": "f8099501-aa9a-4964-a737-fb433b105e53",
   "metadata": {},
   "outputs": [],
   "source": [
    "#Exercício 16\n",
    "#Considere o dataset 16_dataset_notas_alunos.csv (ver nos recursos da aula no Discord). Então, extraia as seguintes informações:"
   ]
  },
  {
   "cell_type": "code",
   "execution_count": 23,
   "id": "04f927c8-188e-4d48-8c1f-28388e356c09",
   "metadata": {},
   "outputs": [
    {
     "data": {
      "text/html": [
       "<div>\n",
       "<style scoped>\n",
       "    .dataframe tbody tr th:only-of-type {\n",
       "        vertical-align: middle;\n",
       "    }\n",
       "\n",
       "    .dataframe tbody tr th {\n",
       "        vertical-align: top;\n",
       "    }\n",
       "\n",
       "    .dataframe thead th {\n",
       "        text-align: right;\n",
       "    }\n",
       "</style>\n",
       "<table border=\"1\" class=\"dataframe\">\n",
       "  <thead>\n",
       "    <tr style=\"text-align: right;\">\n",
       "      <th></th>\n",
       "      <th>Aluno</th>\n",
       "      <th>Idade</th>\n",
       "      <th>Matemática</th>\n",
       "      <th>Ciências</th>\n",
       "    </tr>\n",
       "  </thead>\n",
       "  <tbody>\n",
       "    <tr>\n",
       "      <th>0</th>\n",
       "      <td>1</td>\n",
       "      <td>17</td>\n",
       "      <td>67</td>\n",
       "      <td>60</td>\n",
       "    </tr>\n",
       "    <tr>\n",
       "      <th>1</th>\n",
       "      <td>2</td>\n",
       "      <td>15</td>\n",
       "      <td>83</td>\n",
       "      <td>78</td>\n",
       "    </tr>\n",
       "    <tr>\n",
       "      <th>2</th>\n",
       "      <td>3</td>\n",
       "      <td>17</td>\n",
       "      <td>70</td>\n",
       "      <td>61</td>\n",
       "    </tr>\n",
       "    <tr>\n",
       "      <th>3</th>\n",
       "      <td>4</td>\n",
       "      <td>17</td>\n",
       "      <td>76</td>\n",
       "      <td>85</td>\n",
       "    </tr>\n",
       "    <tr>\n",
       "      <th>4</th>\n",
       "      <td>5</td>\n",
       "      <td>15</td>\n",
       "      <td>67</td>\n",
       "      <td>91</td>\n",
       "    </tr>\n",
       "  </tbody>\n",
       "</table>\n",
       "</div>"
      ],
      "text/plain": [
       "   Aluno  Idade  Matemática  Ciências\n",
       "0      1     17          67        60\n",
       "1      2     15          83        78\n",
       "2      3     17          70        61\n",
       "3      4     17          76        85\n",
       "4      5     15          67        91"
      ]
     },
     "execution_count": 23,
     "metadata": {},
     "output_type": "execute_result"
    }
   ],
   "source": [
    "import pandas as pd\n",
    "\n",
    "notas_alunos = pd.read_csv('16_dataset_notas_alunos.csv')\n",
    "\n",
    "notas_alunos.head()"
   ]
  },
  {
   "cell_type": "code",
   "execution_count": 24,
   "id": "d3ddd650-d236-42f6-8563-10ba12c994ec",
   "metadata": {},
   "outputs": [],
   "source": [
    "#1. Calcule a média das notas em Matemática e Ciências."
   ]
  },
  {
   "cell_type": "code",
   "execution_count": 25,
   "id": "cb7f4c32-3450-4d2b-b93f-aa6064d0f3a9",
   "metadata": {},
   "outputs": [
    {
     "name": "stdout",
     "output_type": "stream",
     "text": [
      "A média das notas de matemática são 81.57\n",
      "A média das notas de ciência são 80.26\n"
     ]
    }
   ],
   "source": [
    "media_matematica = notas_alunos['Matemática'].mean()\n",
    "print(f'A média das notas de matemática são {media_matematica}')\n",
    "media_ciencia = notas_alunos['Ciências'].mean()\n",
    "print(f'A média das notas de ciência são {media_ciencia}')"
   ]
  },
  {
   "cell_type": "code",
   "execution_count": 26,
   "id": "aa10682e-7c7a-474d-b758-977aa7665a23",
   "metadata": {},
   "outputs": [],
   "source": [
    "#2. Encontre a mediana das notas em Matemática e Ciências."
   ]
  },
  {
   "cell_type": "code",
   "execution_count": 27,
   "id": "538b5bd7-869f-41ec-87ec-51601c50d770",
   "metadata": {},
   "outputs": [
    {
     "name": "stdout",
     "output_type": "stream",
     "text": [
      "A mediana das notas de matemática são 84.5\n",
      "A mediana das notas de ciência são 79.5\n"
     ]
    }
   ],
   "source": [
    "mediana_matematica = notas_alunos['Matemática'].median()\n",
    "print(f'A mediana das notas de matemática são {mediana_matematica}')\n",
    "mediana_ciencia = notas_alunos['Ciências'].median()\n",
    "print(f'A mediana das notas de ciência são {mediana_ciencia}')"
   ]
  },
  {
   "cell_type": "code",
   "execution_count": 28,
   "id": "afc60d8a-9ce7-403c-bfe0-5d098b97d320",
   "metadata": {},
   "outputs": [],
   "source": [
    "#3. Determine a moda das notas em Matemática e Ciências."
   ]
  },
  {
   "cell_type": "code",
   "execution_count": 29,
   "id": "235c0b65-dbd7-4979-b19b-7c9b1fb99d9e",
   "metadata": {},
   "outputs": [
    {
     "name": "stdout",
     "output_type": "stream",
     "text": [
      "A moda das notas de matemática são 98\n",
      "A moda das notas de ciência são 92\n"
     ]
    }
   ],
   "source": [
    "moda_matematica = notas_alunos['Matemática'].mode()[0]\n",
    "print(f'A moda das notas de matemática são {moda_matematica}')\n",
    "moda_ciencia = notas_alunos['Ciências'].mode()[0]\n",
    "print(f'A moda das notas de ciência são {moda_ciencia}')"
   ]
  },
  {
   "cell_type": "code",
   "execution_count": 30,
   "id": "cd34e3c2-ca2c-4440-91c2-e852c0890d3c",
   "metadata": {},
   "outputs": [],
   "source": [
    "#4. Calcule a amplitude das notas em Matemática e Ciências."
   ]
  },
  {
   "cell_type": "code",
   "execution_count": 31,
   "id": "d6ed7447-632b-4609-9f62-39be6951e416",
   "metadata": {},
   "outputs": [
    {
     "name": "stdout",
     "output_type": "stream",
     "text": [
      "A amplitude das notas de matemática são 40\n",
      "A amplitude das notas de ciência são 40\n"
     ]
    }
   ],
   "source": [
    "amplitude_matematica = notas_alunos['Matemática'].max() - notas_alunos['Matemática'].min()\n",
    "print(f'A amplitude das notas de matemática são {amplitude_matematica}')\n",
    "amplitude_ciencia = notas_alunos['Ciências'].max() - notas_alunos['Ciências'].min()\n",
    "print(f'A amplitude das notas de ciência são {amplitude_ciencia}')"
   ]
  },
  {
   "cell_type": "code",
   "execution_count": 32,
   "id": "cbc3536e-da37-40f1-9338-af7b8c05cae4",
   "metadata": {},
   "outputs": [],
   "source": [
    "#5. Calcule a variância das notas em Matemática e Ciências."
   ]
  },
  {
   "cell_type": "code",
   "execution_count": 33,
   "id": "c51e7d63-944f-4d12-b453-48d7d99ef0e4",
   "metadata": {},
   "outputs": [
    {
     "name": "stdout",
     "output_type": "stream",
     "text": [
      "A variância das notas de matemática são 160.75\n",
      "A variância das notas de ciência são 150.15\n"
     ]
    }
   ],
   "source": [
    "variancia_matematica = notas_alunos['Matemática'].var()\n",
    "print(f'A variância das notas de matemática são {variancia_matematica:.2f}')\n",
    "variancia_ciencia = notas_alunos['Ciências'].var()\n",
    "print(f'A variância das notas de ciência são {variancia_ciencia:.2f}')"
   ]
  },
  {
   "cell_type": "code",
   "execution_count": 34,
   "id": "63dcc94a-3d39-490a-a4c1-112254587f46",
   "metadata": {},
   "outputs": [],
   "source": [
    "#6. Calcule o desvio padrão das notas em Matemática e Ciências."
   ]
  },
  {
   "cell_type": "code",
   "execution_count": 35,
   "id": "0eccba67-9918-414e-9124-8d60ba85cb50",
   "metadata": {},
   "outputs": [
    {
     "name": "stdout",
     "output_type": "stream",
     "text": [
      "O desvio padrão das notas de matemática são 12.68\n",
      "O desvio padrão das notas de ciência são 12.25\n"
     ]
    }
   ],
   "source": [
    "desvio_matematica = notas_alunos['Matemática'].std()\n",
    "print(f'O desvio padrão das notas de matemática são {desvio_matematica:.2f}')\n",
    "desvio_ciencia = notas_alunos['Ciências'].std()\n",
    "print(f'O desvio padrão das notas de ciência são {desvio_ciencia:.2f}')"
   ]
  },
  {
   "cell_type": "code",
   "execution_count": 36,
   "id": "4791ea88-cbb7-47a2-b66f-571ddeac9c14",
   "metadata": {},
   "outputs": [],
   "source": [
    "#7. Calcule a covariância entre as notas de Matemática e Ciências."
   ]
  },
  {
   "cell_type": "code",
   "execution_count": 37,
   "id": "27733d20-a79a-48a2-9275-bf2b38cf0ccc",
   "metadata": {},
   "outputs": [
    {
     "name": "stdout",
     "output_type": "stream",
     "text": [
      "A covariância das notas entre matemática e ciência são 9.13\n"
     ]
    }
   ],
   "source": [
    "covariancia = notas_alunos[['Matemática', 'Ciências']].cov().iloc[0, 1]\n",
    "print(f'A covariância das notas entre matemática e ciência são {covariancia:.2f}')"
   ]
  },
  {
   "cell_type": "code",
   "execution_count": 38,
   "id": "83255448-c8d9-4253-85d4-47f24b1cae64",
   "metadata": {},
   "outputs": [],
   "source": [
    "#8. Calcule a correlação entre as notas de Matemática e Ciências."
   ]
  },
  {
   "cell_type": "code",
   "execution_count": 39,
   "id": "36c0015d-7c2c-4232-91bc-d5cd7aa68180",
   "metadata": {},
   "outputs": [
    {
     "name": "stdout",
     "output_type": "stream",
     "text": [
      "A correlação das notas entre matemática e ciência são 0.06\n"
     ]
    }
   ],
   "source": [
    "correlacao = notas_alunos[['Matemática', 'Ciências']].corr().iloc[0, 1]\n",
    "print(f'A correlação das notas entre matemática e ciência são {correlacao:.2f}')"
   ]
  }
 ],
 "metadata": {
  "kernelspec": {
   "display_name": "Python 3 (ipykernel)",
   "language": "python",
   "name": "python3"
  },
  "language_info": {
   "codemirror_mode": {
    "name": "ipython",
    "version": 3
   },
   "file_extension": ".py",
   "mimetype": "text/x-python",
   "name": "python",
   "nbconvert_exporter": "python",
   "pygments_lexer": "ipython3",
   "version": "3.12.4"
  }
 },
 "nbformat": 4,
 "nbformat_minor": 5
}
