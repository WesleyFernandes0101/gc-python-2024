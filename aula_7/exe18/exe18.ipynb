{
 "cells": [
  {
   "cell_type": "code",
   "execution_count": 8,
   "id": "32c299b5-e3a3-4d2a-b8c4-33ba98c7c9fa",
   "metadata": {},
   "outputs": [],
   "source": [
    "#Exercício 18 (MINI BOSS): Análise de Desempenho Escolar\n",
    "#Você é um cientista de dados contratado por uma escola para analisar o desempenho de três turmas (Turma A, Turma B, Turma C) em duas disciplinas: Matemática e Ciências.\n",
    "#O objetivo é gerar um relatório completo utilizando as medidas estatísticas estudadas para entender o desempenho geral dos alunos e descobrir padrões importantes."
   ]
  },
  {
   "cell_type": "code",
   "execution_count": 9,
   "id": "622d5570-4a4b-465b-87c2-0a85fe02b8d4",
   "metadata": {},
   "outputs": [],
   "source": [
    "#Tarefas:\n",
    "#1. Carregar o dataset que contém as notas dos alunos das três turmas. O arquivo chama 18_analise_avancada.csv."
   ]
  },
  {
   "cell_type": "code",
   "execution_count": 10,
   "id": "15a6963e-3268-497b-9cc3-bc9b3ffed597",
   "metadata": {},
   "outputs": [],
   "source": [
    "import pandas as pd"
   ]
  },
  {
   "cell_type": "code",
   "execution_count": 11,
   "id": "e161d548-d2dd-470e-99b9-4a634fa3cb73",
   "metadata": {},
   "outputs": [],
   "source": [
    "turmas = pd.read_csv('18_analise_avancada.csv')"
   ]
  },
  {
   "cell_type": "code",
   "execution_count": 12,
   "id": "4ea1561f-6e7a-4c46-9127-bc67678c754d",
   "metadata": {},
   "outputs": [
    {
     "data": {
      "text/html": [
       "<div>\n",
       "<style scoped>\n",
       "    .dataframe tbody tr th:only-of-type {\n",
       "        vertical-align: middle;\n",
       "    }\n",
       "\n",
       "    .dataframe tbody tr th {\n",
       "        vertical-align: top;\n",
       "    }\n",
       "\n",
       "    .dataframe thead th {\n",
       "        text-align: right;\n",
       "    }\n",
       "</style>\n",
       "<table border=\"1\" class=\"dataframe\">\n",
       "  <thead>\n",
       "    <tr style=\"text-align: right;\">\n",
       "      <th></th>\n",
       "      <th>Turma</th>\n",
       "      <th>Matemática</th>\n",
       "      <th>Ciências</th>\n",
       "    </tr>\n",
       "  </thead>\n",
       "  <tbody>\n",
       "    <tr>\n",
       "      <th>0</th>\n",
       "      <td>C</td>\n",
       "      <td>83</td>\n",
       "      <td>96</td>\n",
       "    </tr>\n",
       "    <tr>\n",
       "      <th>1</th>\n",
       "      <td>A</td>\n",
       "      <td>47</td>\n",
       "      <td>91</td>\n",
       "    </tr>\n",
       "    <tr>\n",
       "      <th>2</th>\n",
       "      <td>C</td>\n",
       "      <td>63</td>\n",
       "      <td>52</td>\n",
       "    </tr>\n",
       "    <tr>\n",
       "      <th>3</th>\n",
       "      <td>C</td>\n",
       "      <td>50</td>\n",
       "      <td>80</td>\n",
       "    </tr>\n",
       "    <tr>\n",
       "      <th>4</th>\n",
       "      <td>A</td>\n",
       "      <td>90</td>\n",
       "      <td>42</td>\n",
       "    </tr>\n",
       "  </tbody>\n",
       "</table>\n",
       "</div>"
      ],
      "text/plain": [
       "  Turma  Matemática  Ciências\n",
       "0     C          83        96\n",
       "1     A          47        91\n",
       "2     C          63        52\n",
       "3     C          50        80\n",
       "4     A          90        42"
      ]
     },
     "execution_count": 12,
     "metadata": {},
     "output_type": "execute_result"
    }
   ],
   "source": [
    "turmas.head()"
   ]
  },
  {
   "cell_type": "code",
   "execution_count": 13,
   "id": "19d2f66c-14fd-4ec1-acd8-cd5e841e4550",
   "metadata": {},
   "outputs": [],
   "source": [
    "turmas_a = turmas[turmas['Turma'] == 'A']\n",
    "turmas_b = turmas[turmas['Turma'] == 'B']\n",
    "turmas_c = turmas[turmas['Turma'] == 'C']"
   ]
  },
  {
   "cell_type": "code",
   "execution_count": 14,
   "id": "af813de3-0b31-48bd-9c65-dffea4d568df",
   "metadata": {},
   "outputs": [],
   "source": [
    "#2. Calcular as seguintes medidas estatísticas para cada turma (A, B e C) em Matemática e Ciências:\n",
    "#a. Média"
   ]
  },
  {
   "cell_type": "code",
   "execution_count": 18,
   "id": "c5b76304-5b1a-4b1e-a3dd-c06266e240aa",
   "metadata": {},
   "outputs": [
    {
     "name": "stdout",
     "output_type": "stream",
     "text": [
      "A média da turma A em matemática é 69.52, e em ciências é 70.39\n",
      "A média da turma B em matemática é 70.89, e em ciências é 71.56\n",
      "A média da turma C em matemática é 68.74, e em ciências é 67.58\n"
     ]
    }
   ],
   "source": [
    "media_matematica_a = turmas_a['Matemática'].mean()\n",
    "media_ciencia_a = turmas_a['Ciências'].mean()\n",
    "print(f'A média da turma A em matemática é {media_matematica_a:.2f}, e em ciências é {media_ciencia_a:.2f}')\n",
    "\n",
    "media_matematica_b = turmas_b['Matemática'].mean()\n",
    "media_ciencia_b = turmas_b['Ciências'].mean()\n",
    "print(f'A média da turma B em matemática é {media_matematica_b:.2f}, e em ciências é {media_ciencia_b:.2f}')\n",
    "\n",
    "media_matematica_c = turmas_c['Matemática'].mean()\n",
    "media_ciencia_c = turmas_c['Ciências'].mean()\n",
    "print(f'A média da turma C em matemática é {media_matematica_c:.2f}, e em ciências é {media_ciencia_c:.2f}')"
   ]
  },
  {
   "cell_type": "code",
   "execution_count": null,
   "id": "f89f3430-d688-460a-8a31-ac868ed2a110",
   "metadata": {},
   "outputs": [],
   "source": [
    "#b. Mediana"
   ]
  },
  {
   "cell_type": "code",
   "execution_count": 19,
   "id": "dd341a27-68d2-45bb-9c76-43d1dccddc6d",
   "metadata": {},
   "outputs": [
    {
     "name": "stdout",
     "output_type": "stream",
     "text": [
      "A mediana da turma A em matemática é 68.00, e em ciências é 72.00\n",
      "A mediana da turma B em matemática é 71.00, e em ciências é 72.00\n",
      "A mediana da turma C em matemática é 74.00, e em ciências é 67.00\n"
     ]
    }
   ],
   "source": [
    "mediana_matematica_a = turmas_a['Matemática'].median()\n",
    "mediana_ciencia_a = turmas_a['Ciências'].median()\n",
    "print(f'A mediana da turma A em matemática é {mediana_matematica_a:.2f}, e em ciências é {mediana_ciencia_a:.2f}')\n",
    "\n",
    "mediana_matematica_b = turmas_b['Matemática'].median()\n",
    "mediana_ciencia_b = turmas_b['Ciências'].median()\n",
    "print(f'A mediana da turma B em matemática é {mediana_matematica_b:.2f}, e em ciências é {mediana_ciencia_b:.2f}')\n",
    "\n",
    "mediana_matematica_c = turmas_c['Matemática'].median()\n",
    "mediana_ciencia_c = turmas_c['Ciências'].median()\n",
    "print(f'A mediana da turma C em matemática é {mediana_matematica_c:.2f}, e em ciências é {mediana_ciencia_c:.2f}')"
   ]
  },
  {
   "cell_type": "code",
   "execution_count": null,
   "id": "18e44d45-7b51-4435-8178-b519c593ba59",
   "metadata": {},
   "outputs": [],
   "source": [
    "#c. Moda"
   ]
  },
  {
   "cell_type": "code",
   "execution_count": 21,
   "id": "6c4fe067-b76b-4939-9530-1b2445b68fcb",
   "metadata": {},
   "outputs": [
    {
     "name": "stdout",
     "output_type": "stream",
     "text": [
      "A moda da turma A em matemática é 94.00, e em ciências é 71.00\n",
      "A moda da turma B em matemática é 54.00, e em ciências é 58.00\n",
      "A moda da turma C em matemática é 78.00, e em ciências é 42.00\n"
     ]
    }
   ],
   "source": [
    "moda_matematica_a = turmas_a['Matemática'].mode()[0]\n",
    "moda_ciencia_a = turmas_a['Ciências'].mode()[0]\n",
    "print(f'A moda da turma A em matemática é {moda_matematica_a:.2f}, e em ciências é {moda_ciencia_a:.2f}')\n",
    "\n",
    "moda_matematica_b = turmas_b['Matemática'].mode()[0]\n",
    "moda_ciencia_b = turmas_b['Ciências'].mode()[0]\n",
    "print(f'A moda da turma B em matemática é {moda_matematica_b:.2f}, e em ciências é {moda_ciencia_b:.2f}')\n",
    "\n",
    "moda_matematica_c = turmas_c['Matemática'].mode()[0]\n",
    "moda_ciencia_c = turmas_c['Ciências'].mode()[0]\n",
    "print(f'A moda da turma C em matemática é {moda_matematica_c:.2f}, e em ciências é {moda_ciencia_c:.2f}')"
   ]
  },
  {
   "cell_type": "code",
   "execution_count": null,
   "id": "fea2c5c4-237a-42ab-9a56-dabe57a51381",
   "metadata": {},
   "outputs": [],
   "source": [
    "#d. Amplitude (diferença entre a maior e a menor nota)"
   ]
  },
  {
   "cell_type": "code",
   "execution_count": 22,
   "id": "26fe138d-0b18-4ea8-ac98-8b3a6ff709c8",
   "metadata": {},
   "outputs": [
    {
     "name": "stdout",
     "output_type": "stream",
     "text": [
      "A amplitude da turma A em matemática é 57.00, e em ciências é 58.00\n",
      "A amplitude da turma B em matemática é 53.00, e em ciências é 58.00\n",
      "A amplitude da turma C em matemática é 60.00, e em ciências é 57.00\n"
     ]
    }
   ],
   "source": [
    "amplitude_matematica_a = turmas_a['Matemática'].max() - turmas_a['Matemática'].min()\n",
    "amplitude_ciencia_a = turmas_a['Ciências'].max() - turmas_a['Ciências'].min()\n",
    "print(f'A amplitude da turma A em matemática é {amplitude_matematica_a:.2f}, e em ciências é {amplitude_ciencia_a:.2f}')\n",
    "\n",
    "amplitude_matematica_b = turmas_b['Matemática'].max() - turmas_b['Matemática'].min()\n",
    "amplitude_ciencia_b = turmas_b['Ciências'].max() - turmas_b['Ciências'].min()\n",
    "print(f'A amplitude da turma B em matemática é {amplitude_matematica_b:.2f}, e em ciências é {amplitude_ciencia_b:.2f}')\n",
    "\n",
    "amplitude_matematica_c = turmas_c['Matemática'].max() - turmas_c['Matemática'].min()\n",
    "amplitude_ciencia_c = turmas_c['Ciências'].max() - turmas_c['Ciências'].min()\n",
    "print(f'A amplitude da turma C em matemática é {amplitude_matematica_c:.2f}, e em ciências é {amplitude_ciencia_c:.2f}')"
   ]
  },
  {
   "cell_type": "code",
   "execution_count": null,
   "id": "f1578af4-9507-41fd-ba54-eb969f8d8509",
   "metadata": {},
   "outputs": [],
   "source": [
    "#e. Variância"
   ]
  },
  {
   "cell_type": "code",
   "execution_count": 23,
   "id": "2f6aba17-b939-4164-a29f-b5960a21fc2d",
   "metadata": {},
   "outputs": [
    {
     "name": "stdout",
     "output_type": "stream",
     "text": [
      "A variância da turma A em matemática é 325.57, e em ciências é 346.00\n",
      "A variância da turma B em matemática é 234.10, e em ciências é 374.31\n",
      "A variância da turma C em matemática é 308.00, e em ciências é 347.32\n"
     ]
    }
   ],
   "source": [
    "variancia_matematica_a = turmas_a['Matemática'].var()\n",
    "variancia_ciencia_a = turmas_a['Ciências'].var()\n",
    "print(f'A variância da turma A em matemática é {variancia_matematica_a:.2f}, e em ciências é {variancia_ciencia_a:.2f}')\n",
    "\n",
    "variancia_matematica_b = turmas_b['Matemática'].var()\n",
    "variancia_ciencia_b = turmas_b['Ciências'].var()\n",
    "print(f'A variância da turma B em matemática é {variancia_matematica_b:.2f}, e em ciências é {variancia_ciencia_b:.2f}')\n",
    "\n",
    "variancia_matematica_c = turmas_c['Matemática'].var()\n",
    "variancia_ciencia_c = turmas_c['Ciências'].var()\n",
    "print(f'A variância da turma C em matemática é {variancia_matematica_c:.2f}, e em ciências é {variancia_ciencia_c:.2f}')"
   ]
  },
  {
   "cell_type": "code",
   "execution_count": null,
   "id": "9e1eaffe-0de8-416c-9b5f-3a2344e9dc43",
   "metadata": {},
   "outputs": [],
   "source": [
    "#f. Desvio Padrão"
   ]
  },
  {
   "cell_type": "code",
   "execution_count": 24,
   "id": "478554e4-bf23-4189-9d64-1d422b4bcc9c",
   "metadata": {},
   "outputs": [
    {
     "name": "stdout",
     "output_type": "stream",
     "text": [
      "O desvio padrão da turma A em matemática é 18.04, e em ciências é 18.60\n",
      "A desvio padrão da turma B em matemática é 15.30, e em ciências é 19.35\n",
      "A desvio padrão da turma C em matemática é 17.55, e em ciências é 18.64\n"
     ]
    }
   ],
   "source": [
    "desvio_matematica_a = turmas_a['Matemática'].std()\n",
    "desvio_ciencia_a = turmas_a['Ciências'].std()\n",
    "print(f'O desvio padrão da turma A em matemática é {desvio_matematica_a:.2f}, e em ciências é {desvio_ciencia_a:.2f}')\n",
    "\n",
    "desvio_matematica_b = turmas_b['Matemática'].std()\n",
    "desvio_ciencia_b = turmas_b['Ciências'].std()\n",
    "print(f'A desvio padrão da turma B em matemática é {desvio_matematica_b:.2f}, e em ciências é {desvio_ciencia_b:.2f}')\n",
    "\n",
    "desvio_matematica_c = turmas_c['Matemática'].std()\n",
    "desvio_ciencia_c = turmas_c['Ciências'].std()\n",
    "print(f'A desvio padrão da turma C em matemática é {desvio_matematica_c:.2f}, e em ciências é {desvio_ciencia_c:.2f}')"
   ]
  },
  {
   "cell_type": "code",
   "execution_count": null,
   "id": "b5501629-47c9-4d5a-bd1c-37adbd305a3d",
   "metadata": {},
   "outputs": [],
   "source": [
    "#g. Covariância e Correlação entre Matemática e Ciências"
   ]
  },
  {
   "cell_type": "code",
   "execution_count": 28,
   "id": "b721d757-3c38-48b8-9071-62df05def52e",
   "metadata": {},
   "outputs": [
    {
     "name": "stdout",
     "output_type": "stream",
     "text": [
      "A covariância das notas entre matemática e ciência da turma A são -68.65\n",
      "A correlação das notas entre matemática e ciência da turma A são -0.20\n",
      "\n",
      "A covariância das notas entre matemática e ciência da turma B são -25.17\n",
      "A correlação das notas entre matemática e ciência da turma B são -0.09\n",
      "\n",
      "A covariância das notas entre matemática e ciência da turma C são 77.05\n",
      "A correlação das notas entre matemática e ciência da turma C são 0.24\n",
      "\n"
     ]
    }
   ],
   "source": [
    "covariancia = turmas_a[['Matemática', 'Ciências']].cov().iloc[0, 1]\n",
    "print(f'A covariância das notas entre matemática e ciência da turma A são {covariancia:.2f}')\n",
    "correlacao = turmas_a[['Matemática', 'Ciências']].corr().iloc[0, 1]\n",
    "print(f'A correlação das notas entre matemática e ciência da turma A são {correlacao:.2f}\\n')\n",
    "\n",
    "covariancia = turmas_b[['Matemática', 'Ciências']].cov().iloc[0, 1]\n",
    "print(f'A covariância das notas entre matemática e ciência da turma B são {covariancia:.2f}')\n",
    "correlacao = turmas_b[['Matemática', 'Ciências']].corr().iloc[0, 1]\n",
    "print(f'A correlação das notas entre matemática e ciência da turma B são {correlacao:.2f}\\n')\n",
    "\n",
    "covariancia = turmas_c[['Matemática', 'Ciências']].cov().iloc[0, 1]\n",
    "print(f'A covariância das notas entre matemática e ciência da turma C são {covariancia:.2f}')\n",
    "correlacao = turmas_c[['Matemática', 'Ciências']].corr().iloc[0, 1]\n",
    "print(f'A correlação das notas entre matemática e ciência da turma C são {correlacao:.2f}\\n')"
   ]
  },
  {
   "cell_type": "markdown",
   "id": "691032fd-dbb0-4a94-ab5a-94555197c977",
   "metadata": {},
   "source": [
    "### Conclusões:"
   ]
  },
  {
   "cell_type": "markdown",
   "id": "6fc64fd9-378a-4c88-a7d2-e359dba7a098",
   "metadata": {},
   "source": [
    "#### 1. Com base nas medidas acima, qual turma teve o melhor desempenho geral em Matemática e Ciências?"
   ]
  },
  {
   "cell_type": "markdown",
   "id": "f8a87aa1-d159-46d9-8add-ecaf1aec9934",
   "metadata": {},
   "source": [
    "##### Resposta: A Turma B obteve as maiores médias e medianas em ambas as disciplinas, indicando um melhor desempenho geral dos alunos. Além disso, apresentou menor desvio padrão e amplitude, sugerindo maior consistência e homogeneidade nas notas, com menor variabilidade no desempenho individual dos alunos."
   ]
  },
  {
   "cell_type": "markdown",
   "id": "9116bd1a-628d-450c-a441-e0909fb6b21e",
   "metadata": {},
   "source": [
    "#### 2. Qual turma tem as notas mais consistentes em termos de desvio padrão?"
   ]
  },
  {
   "cell_type": "markdown",
   "id": "1d6e4c2e-59d4-4769-82a8-c9990b907133",
   "metadata": {},
   "source": [
    "##### Resposta: A turma com os menores valores de desvio padrão, tanto em Matemática quanto em Ciências é a Turma B."
   ]
  },
  {
   "cell_type": "markdown",
   "id": "7987c331-676f-44c9-8a78-98b546b99c0c",
   "metadata": {},
   "source": [
    "#### 3. Existe uma correlação entre o desempenho em Matemática e Ciências para cada turma? Essa correlação é positiva ou negativa?"
   ]
  },
  {
   "cell_type": "markdown",
   "id": "024377cf-c306-4ea3-a3cb-40cf91dcae00",
   "metadata": {},
   "source": [
    "##### Resposta: Observamos que as Turmas A e B apresentam uma correlação negativa fraca entre as notas de Matemática e Ciências. Isso significa que, em geral, alunos com bom desempenho em uma disciplina tendem a ter um desempenho um pouco inferior na outra, mas essa relação não é muito forte. Já na Turma C, encontramos uma correlação positiva fraca, indicando que alunos com boas notas em Matemática também tendem a ter boas notas em Ciências, porém, essa relação também é sutil."
   ]
  },
  {
   "cell_type": "markdown",
   "id": "182c259a-c219-43ca-844e-4175ea951f4c",
   "metadata": {},
   "source": [
    "#### 4. Qual turma apresenta a maior amplitude de notas? O que isso nos diz sobre a desigualdade de desempenho dentro da turma?"
   ]
  },
  {
   "cell_type": "markdown",
   "id": "c4737dce-5369-4e8b-80c5-20e2283750e1",
   "metadata": {},
   "source": [
    "##### Resposta: A turma com a maior amplitude de notas em uma disciplina específica apresenta maior variabilidade no desempenho dos alunos nessa disciplina. Isso indica uma maior desigualdade de desempenho dentro da turma, pois as notas estão mais dispersas, com alunos apresentando desempenhos muito diferentes uns dos outros, desde notas muito baixas até notas muito altas. A turma que possui maior amplitude de notas é a Turma C."
   ]
  }
 ],
 "metadata": {
  "kernelspec": {
   "display_name": "Python 3 (ipykernel)",
   "language": "python",
   "name": "python3"
  },
  "language_info": {
   "codemirror_mode": {
    "name": "ipython",
    "version": 3
   },
   "file_extension": ".py",
   "mimetype": "text/x-python",
   "name": "python",
   "nbconvert_exporter": "python",
   "pygments_lexer": "ipython3",
   "version": "3.12.4"
  }
 },
 "nbformat": 4,
 "nbformat_minor": 5
}
