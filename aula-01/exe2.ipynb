{
 "cells": [
  {
   "cell_type": "code",
   "execution_count": null,
   "id": "8411eceb-ade0-43d7-9ac5-e54ccf0e877a",
   "metadata": {},
   "outputs": [],
   "source": [
    "#Exercício 02 - Crie um programa que receba 2 números e imprima a soma deles na tela."
   ]
  },
  {
   "cell_type": "code",
   "execution_count": 5,
   "id": "be3e1026-024e-4a91-99ac-d17cb53ee1f6",
   "metadata": {},
   "outputs": [
    {
     "name": "stdin",
     "output_type": "stream",
     "text": [
      "Digite o primeiro número: 2\n",
      "Digite o segundo número: 2\n"
     ]
    },
    {
     "name": "stdout",
     "output_type": "stream",
     "text": [
      "A soma dos dois números ficou 4\n"
     ]
    }
   ],
   "source": [
    "num1 = int(input('Digite o primeiro número:'))\n",
    "num2 = int(input('Digite o segundo número:'))\n",
    "\n",
    "soma = num1 + num2\n",
    "\n",
    "print(f'A soma dos dois números ficou {soma}') "
   ]
  }
 ],
 "metadata": {
  "kernelspec": {
   "display_name": "Python 3 (ipykernel)",
   "language": "python",
   "name": "python3"
  },
  "language_info": {
   "codemirror_mode": {
    "name": "ipython",
    "version": 3
   },
   "file_extension": ".py",
   "mimetype": "text/x-python",
   "name": "python",
   "nbconvert_exporter": "python",
   "pygments_lexer": "ipython3",
   "version": "3.12.4"
  }
 },
 "nbformat": 4,
 "nbformat_minor": 5
}
