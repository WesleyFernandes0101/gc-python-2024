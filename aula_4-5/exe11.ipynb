{
 "cells": [
  {
   "cell_type": "code",
   "execution_count": 1,
   "id": "d43852ec-253a-4156-851a-888f57a0ed7b",
   "metadata": {},
   "outputs": [],
   "source": [
    "#Exercício 11 – Mini Boss- Coop\n",
    "#Crie e exiba um dataframe musicas com informações sobre suas músicas favoritas ( 5 músicas ):\n",
    "#id_musica– identificador da música.\n",
    "#nome_musica–nome da música.\n",
    "#artista– nome do artista ou banda\n",
    "#genero–gênero musical (Pop, Rock, Jazz, etc.)\n",
    "#duracao–duração da música em minutos.\n",
    "#Crie e exiba um dataframe reproducoes dessas musicas:\n",
    "#id_reproducao– identificador único da reprodução.\n",
    "#id_musica– identificador da música reproduzida.\n",
    "#data_reproducao– data da reprodução.\n",
    "#duracao_reproducao– duração da reprodução (caso o usuário não ouça a música completa).\n",
    "#Simule 5 reproduções de diferentes músicas, associando o id_musica com a data e a duração reproduzida.\n",
    "#Realize um merge entre os dataframes musicas e reproducoes, combinando-os pela coluna id_musica.\n",
    "#Exiba o nome da música, o artista e a duração reproduzida para cada reprodução\n",
    "#Atualize o dataframe de reproducoes, removendo um registro para simular que nem todas as músicas foram reproduzidas.\n",
    "#Realize o merge novamente e identifique os valores faltantes.\n",
    "#Preencha os valores faltantes com \"Não Reproduzida\".\n",
    "#Análise os dados\n",
    "#Qual o gênero de música mais reproduzido? Use agrupamento para calcular isso.\n",
    "#Qual o total de minutos de música reproduzidos?\n",
    "#Crie uma nova coluna chamada avaliacao e atribua uma classificação de 1 a 5 para cada música com base em quanto você gosta dela.\n",
    "\n",
    "#Local da atividade -> https://github.com/IkkiMachado/gc-python-2024/blob/ex11/aula_05/atividade_11/atividade_11.ipynb\n",
    "\n",
    "#Integrantes -> Wesley Fernandes, Henrique Machado & Rene Arthur."
   ]
  }
 ],
 "metadata": {
  "kernelspec": {
   "display_name": "Python 3 (ipykernel)",
   "language": "python",
   "name": "python3"
  },
  "language_info": {
   "codemirror_mode": {
    "name": "ipython",
    "version": 3
   },
   "file_extension": ".py",
   "mimetype": "text/x-python",
   "name": "python",
   "nbconvert_exporter": "python",
   "pygments_lexer": "ipython3",
   "version": "3.12.4"
  }
 },
 "nbformat": 4,
 "nbformat_minor": 5
}
