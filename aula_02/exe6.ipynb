{
 "cells": [
  {
   "cell_type": "code",
   "execution_count": null,
   "id": "ddfaf26d-e883-4c2f-8612-ad717161467f",
   "metadata": {},
   "outputs": [],
   "source": [
    "#Crie um programa em Python que utilize laço de repetição para contar de 1 a 5.\n",
    "#O programa deve exibir cada número da contagem, uma por vez, na tela.\n",
    "#Inicie a contagem em 1 e continue até alcançar o número 5.\n",
    "#Para cada número, o programa deve exibir a mensagem \"Contagem:X\", onde X é o número atual da contagem."
   ]
  },
  {
   "cell_type": "code",
   "execution_count": 3,
   "id": "b71056bf-0731-4e07-99c7-2a6c4ac333de",
   "metadata": {},
   "outputs": [
    {
     "name": "stdout",
     "output_type": "stream",
     "text": [
      "Contagem:1\n",
      "Contagem:2\n",
      "Contagem:3\n",
      "Contagem:4\n",
      "Contagem:5\n"
     ]
    }
   ],
   "source": [
    "import time\n",
    "\n",
    "for i in range(1, 6):\n",
    "    print(f'Contagem:{i}')\n",
    "    time.sleep(1)"
   ]
  }
 ],
 "metadata": {
  "kernelspec": {
   "display_name": "Python 3 (ipykernel)",
   "language": "python",
   "name": "python3"
  },
  "language_info": {
   "codemirror_mode": {
    "name": "ipython",
    "version": 3
   },
   "file_extension": ".py",
   "mimetype": "text/x-python",
   "name": "python",
   "nbconvert_exporter": "python",
   "pygments_lexer": "ipython3",
   "version": "3.12.4"
  }
 },
 "nbformat": 4,
 "nbformat_minor": 5
}
