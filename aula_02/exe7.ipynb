{
 "cells": [
  {
   "cell_type": "code",
   "execution_count": 1,
   "id": "3b8859a7-b4f0-4085-b9de-a88da126c792",
   "metadata": {},
   "outputs": [],
   "source": [
    "#Crie um programa em Python que peça ao usuário para inserir o nome de três amigos.\n",
    "#O programa deve armazenar esses nomes em uma lista e, em seguida, exibir uma mensagem personalizada para cada amigo, indicando\n",
    "#que ele é seu amigo.\n",
    "#O programa deve solicitar o nome de três amigos, um por vez\n",
    "#Após coletar os nomes, o programa deve exibir uma mensagem para cada nome na lista, como \"Nome_do_Amigo é meu amigo\""
   ]
  },
  {
   "cell_type": "code",
   "execution_count": 2,
   "id": "31faf777-388a-4631-85d9-a5dff873f0dc",
   "metadata": {},
   "outputs": [
    {
     "name": "stdin",
     "output_type": "stream",
     "text": [
      "Insira o nome do primeiro amigo: Wesley\n",
      "Insira o nome do segundo amigo: Karol\n",
      "Insira o nome do terceiro amigo: Vitor\n"
     ]
    },
    {
     "name": "stdout",
     "output_type": "stream",
     "text": [
      "Wesley é um amigo\n",
      "Karol é um amigo\n",
      "Vitor é um amigo\n"
     ]
    }
   ],
   "source": [
    "nome1 = input('Insira o nome do primeiro amigo:')\n",
    "nome2 = input('Insira o nome do segundo amigo:')\n",
    "nome3 = input('Insira o nome do terceiro amigo:')\n",
    "\n",
    "list = [nome1, nome2, nome3]\n",
    "\n",
    "for nome in list:\n",
    "    print(f'{nome} é um amigo')"
   ]
  }
 ],
 "metadata": {
  "kernelspec": {
   "display_name": "Python 3 (ipykernel)",
   "language": "python",
   "name": "python3"
  },
  "language_info": {
   "codemirror_mode": {
    "name": "ipython",
    "version": 3
   },
   "file_extension": ".py",
   "mimetype": "text/x-python",
   "name": "python",
   "nbconvert_exporter": "python",
   "pygments_lexer": "ipython3",
   "version": "3.12.4"
  }
 },
 "nbformat": 4,
 "nbformat_minor": 5
}
