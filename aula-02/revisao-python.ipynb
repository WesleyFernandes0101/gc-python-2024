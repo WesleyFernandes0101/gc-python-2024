{
 "cells": [
  {
   "cell_type": "markdown",
   "id": "e3cff329-4439-4cd1-bdfe-91ac78e70a63",
   "metadata": {},
   "source": [
    "# Revisão Python!"
   ]
  },
  {
   "cell_type": "code",
   "execution_count": null,
   "id": "20274bb8-6504-4df2-875e-d594605e5d25",
   "metadata": {},
   "outputs": [],
   "source": [
    "print('Hello world!')"
   ]
  },
  {
   "cell_type": "code",
   "execution_count": null,
   "id": "cc34cd51-92ad-4c22-a6e8-92de36db78bc",
   "metadata": {},
   "outputs": [],
   "source": [
    "nome = 'Wesley'"
   ]
  },
  {
   "cell_type": "code",
   "execution_count": null,
   "id": "6d8bea8a-d2df-4c9b-80d7-1063bfd2a8ac",
   "metadata": {},
   "outputs": [],
   "source": [
    "e_professor = true"
   ]
  },
  {
   "cell_type": "code",
   "execution_count": null,
   "id": "03eaa441-17e1-4684-a9db-9e7c3ed9e790",
   "metadata": {},
   "outputs": [],
   "source": [
    "numeros = 6"
   ]
  },
  {
   "cell_type": "code",
   "execution_count": null,
   "id": "1801a1fb-6123-4399-a3c0-8ecdfd6d8858",
   "metadata": {},
   "outputs": [],
   "source": [
    "numeros_quebrados = 2.5"
   ]
  },
  {
   "cell_type": "code",
   "execution_count": null,
   "id": "1ede26f0-7d20-416e-b2ff-381a92fe7066",
   "metadata": {},
   "outputs": [],
   "source": []
  },
  {
   "cell_type": "code",
   "execution_count": null,
   "id": "08f879a2-6b90-484d-802c-c539a305edee",
   "metadata": {},
   "outputs": [],
   "source": [
    "if 10 > 5:\n",
    "    print('true')\n",
    "else\n",
    "    print('false')"
   ]
  },
  {
   "cell_type": "code",
   "execution_count": null,
   "id": "da07a42a-2756-4c12-befd-cb5f451ab448",
   "metadata": {},
   "outputs": [],
   "source": [
    "for item in lista_item"
   ]
  }
 ],
 "metadata": {
  "kernelspec": {
   "display_name": "Python 3 (ipykernel)",
   "language": "python",
   "name": "python3"
  },
  "language_info": {
   "codemirror_mode": {
    "name": "ipython",
    "version": 3
   },
   "file_extension": ".py",
   "mimetype": "text/x-python",
   "name": "python",
   "nbconvert_exporter": "python",
   "pygments_lexer": "ipython3",
   "version": "3.12.4"
  }
 },
 "nbformat": 4,
 "nbformat_minor": 5
}
