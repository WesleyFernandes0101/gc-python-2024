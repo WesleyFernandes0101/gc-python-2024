{
 "cells": [
  {
   "cell_type": "code",
   "execution_count": null,
   "id": "8849fa3e-8272-4cfd-a2f4-ad9b785040f0",
   "metadata": {},
   "outputs": [],
   "source": [
    "#Crie uma variavel e imprima seu nome!"
   ]
  },
  {
   "cell_type": "code",
   "execution_count": 1,
   "id": "af1a9003-b78e-4590-876e-79d98d290684",
   "metadata": {},
   "outputs": [
    {
     "name": "stdout",
     "output_type": "stream",
     "text": [
      "Wesley\n"
     ]
    }
   ],
   "source": [
    "nome = 'Wesley'\n",
    "print(nome)"
   ]
  }
 ],
 "metadata": {
  "kernelspec": {
   "display_name": "Python 3 (ipykernel)",
   "language": "python",
   "name": "python3"
  },
  "language_info": {
   "codemirror_mode": {
    "name": "ipython",
    "version": 3
   },
   "file_extension": ".py",
   "mimetype": "text/x-python",
   "name": "python",
   "nbconvert_exporter": "python",
   "pygments_lexer": "ipython3",
   "version": "3.12.4"
  }
 },
 "nbformat": 4,
 "nbformat_minor": 5
}
