{
 "cells": [
  {
   "cell_type": "markdown",
   "id": "f41d3ecc-f094-4304-b2a8-248ed8cde6ed",
   "metadata": {},
   "source": [
    "# Crie um programa em Python que solicite ao usuário que insira a sua idade. Com base na idade fornecida, o programa deve verificar se o usuário é menor de idade, maior de idade ou se está completando os 18 anos.\n",
    "# Se a idade for menor que 18 anos, o programa deve exibir \"Menor de idade!\".\n",
    "# Se a idade for exatamente 18 anos, o programa deve exibir \"Feliz aniversário!\".\n",
    "# Se a idade for maior que 18 anos, o programa deve exibir \"Maior de idade!\"."
   ]
  },
  {
   "cell_type": "code",
   "execution_count": null,
   "id": "3dcc7017-f722-4b38-8ebe-1b3a727f401a",
   "metadata": {},
   "outputs": [],
   "source": [
    "idade = int(input('Digite sua idade:'))\n",
    "\n",
    "if idade < 18:\n",
    "    print('Você é de menor')\n",
    "elif idade == 18:\n",
    "    print('Feliz aniversário!')\n",
    "else:\n",
    "    print('Você é de maior')"
   ]
  },
  {
   "cell_type": "code",
   "execution_count": null,
   "id": "bfaa16e4-2902-42a2-9e99-1dda8ed5d42a",
   "metadata": {},
   "outputs": [],
   "source": []
  },
  {
   "cell_type": "code",
   "execution_count": null,
   "id": "4f97eef9-1453-486e-99ae-441f2b9de2dc",
   "metadata": {},
   "outputs": [],
   "source": []
  },
  {
   "cell_type": "code",
   "execution_count": null,
   "id": "e4fb3005-1423-4e9d-803c-405c1771d411",
   "metadata": {},
   "outputs": [],
   "source": []
  },
  {
   "cell_type": "code",
   "execution_count": null,
   "id": "15180e98-c27c-41cb-bcbf-0467571607c4",
   "metadata": {},
   "outputs": [],
   "source": []
  }
 ],
 "metadata": {
  "kernelspec": {
   "display_name": "Python 3 (ipykernel)",
   "language": "python",
   "name": "python3"
  },
  "language_info": {
   "codemirror_mode": {
    "name": "ipython",
    "version": 3
   },
   "file_extension": ".py",
   "mimetype": "text/x-python",
   "name": "python",
   "nbconvert_exporter": "python",
   "pygments_lexer": "ipython3",
   "version": "3.12.4"
  }
 },
 "nbformat": 4,
 "nbformat_minor": 5
}
