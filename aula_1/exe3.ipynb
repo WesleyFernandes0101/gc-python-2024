{
 "cells": [
  {
   "cell_type": "code",
   "execution_count": null,
   "id": "8bddf8fa-3d6a-4a9c-bf59-331ee9adee06",
   "metadata": {},
   "outputs": [],
   "source": [
    "#Exercício 03 - miniBoss - Crie um programa que leia 3 números, imprima o maior, o menor e a média aritmética."
   ]
  },
  {
   "cell_type": "code",
   "execution_count": 1,
   "id": "0f283688-b8a3-448e-b801-b6d9ba07489b",
   "metadata": {},
   "outputs": [
    {
     "name": "stdin",
     "output_type": "stream",
     "text": [
      "Digite o primeiro número: 3\n",
      "Digite o segundo número: 6\n",
      "Digite o terceiro número: 9\n"
     ]
    },
    {
     "name": "stdout",
     "output_type": "stream",
     "text": [
      "O maior número é 9\n",
      "O menor número é 3\n",
      "A média aritmética ficou 6.0\n"
     ]
    }
   ],
   "source": [
    "num1 = int(input('Digite o primeiro número:'))\n",
    "num2 = int(input('Digite o segundo número:'))\n",
    "num3 = int(input('Digite o terceiro número:'))\n",
    "\n",
    "maior = max(num1, num2, num3)\n",
    "menor = min(num1, num2, num3)\n",
    "\n",
    "media = (num1 + num2 + num3) / 3\n",
    "\n",
    "print(f'O maior número é {maior}') \n",
    "print(f'O menor número é {menor}')\n",
    "print(f'A média aritmética ficou {media}')"
   ]
  }
 ],
 "metadata": {
  "kernelspec": {
   "display_name": "Python 3 (ipykernel)",
   "language": "python",
   "name": "python3"
  },
  "language_info": {
   "codemirror_mode": {
    "name": "ipython",
    "version": 3
   },
   "file_extension": ".py",
   "mimetype": "text/x-python",
   "name": "python",
   "nbconvert_exporter": "python",
   "pygments_lexer": "ipython3",
   "version": "3.12.4"
  }
 },
 "nbformat": 4,
 "nbformat_minor": 5
}
